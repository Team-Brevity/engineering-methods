{
  "nbformat": 4,
  "nbformat_minor": 0,
  "metadata": {
    "colab": {
      "provenance": [],
      "toc_visible": true
    },
    "kernelspec": {
      "name": "python3",
      "display_name": "Python 3"
    },
    "language_info": {
      "name": "python"
    }
  },
  "cells": [
    {
      "cell_type": "markdown",
      "source": [
        "# Lintel Checks\n",
        "\n",
        "Designed -\n",
        "\n",
        "Reviewed -\n",
        "\n",
        "Approved - "
      ],
      "metadata": {
        "id": "UWu-6_HOKz5O"
      }
    },
    {
      "cell_type": "code",
      "execution_count": null,
      "metadata": {
        "id": "VUIg3zZ7xfNh"
      },
      "outputs": [],
      "source": [
        "%%capture \n",
        "# %%capture hides cell outputs\n",
        "\n",
        "#install libraries\n",
        "\n",
        "!pip install git+https://github.com/Constratum/engineering_standards.git\n",
        "!pip install git+https://github.com/Team-Brevity/engineering-methods.git"
      ]
    },
    {
      "cell_type": "code",
      "source": [
        "#import and name relevant standards\n",
        "\n",
        "from nz_standards import nzs_1170_5 as NZS_1170_5"
      ],
      "metadata": {
        "colab": {
          "base_uri": "https://localhost:8080/"
        },
        "id": "qUuKsLhKyVcx",
        "outputId": "e1e9f99b-04cf-414d-efcb-c938d28209d9"
      },
      "execution_count": null,
      "outputs": [
        {
          "output_type": "stream",
          "name": "stdout",
          "text": [
            "Spectral shape factor = 1.33\n",
            "Hazard factor = 0.13\n",
            "Major fault distance = 20\n",
            "Return period factor = 1.0\n",
            "Near fault factor = 1.0\n",
            "Elastic site spectra = 0.17290000000000003\n",
            "Sp_stability = 1.0, Sp_ULS = 0.925, Sp_SLS = 0.7\n",
            "0.13994093750000003\n",
            "Part risk factor = 1.0\n",
            "Part limit state = Earthquake ULS\n",
            "Floor height coefficient = 3.0\n",
            "Part spectral shape factor = 2.0\n",
            "Part design response coefficient = 1.0374\n",
            "Part response factor = 1.0\n",
            "Part horizontal design action = 10.374 N\n"
          ]
        }
      ]
    },
    {
      "cell_type": "code",
      "source": [
        "#@title Inputs\n",
        "variable_name = \"\" #@param {type:\"string\"}\n"
      ],
      "metadata": {
        "id": "cU-X1439Mgc2"
      },
      "execution_count": null,
      "outputs": []
    },
    {
      "cell_type": "markdown",
      "source": [
        "# Equations"
      ],
      "metadata": {
        "id": "pYOGzlKjOGDU"
      }
    }
  ]
}